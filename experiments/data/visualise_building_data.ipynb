{
 "cells": [
  {
   "cell_type": "code",
   "execution_count": null,
   "id": "260ded11",
   "metadata": {},
   "outputs": [],
   "source": [
    "import pandas as pd\n",
    "\n",
    "df = pd.read_parquet(\"01_preprocess/building_real__all_devices__2023_dirty.parquet\")\n",
    "# df.index = pd.DatetimeIndex(pd.to_datetime(df[\"Time\"]))\n",
    "df.head()"
   ]
  },
  {
   "cell_type": "code",
   "execution_count": null,
   "id": "39f882a7",
   "metadata": {},
   "outputs": [],
   "source": [
    "df[\"solar_generation\"].mask(df[\"solar_generation\"] < 0).fillna(0.0).plot.line()"
   ]
  },
  {
   "cell_type": "code",
   "execution_count": null,
   "id": "8ed6b22a",
   "metadata": {},
   "outputs": [],
   "source": [
    "import pandas as pd\n",
    "import seaborn as sns\n",
    "import matplotlib.pyplot as plt\n",
    "import matplotlib.dates as mdates\n",
    "\n",
    "\n",
    "df_viz = df.copy()\n",
    "df_viz[\"solar_generation\"] = df_viz[\"solar_generation\"].mask(df[\"solar_generation\"] < 0).fillna(0.0).fillna(0.0) / 1000\n",
    "df_viz[\"non_shiftable_load\"] = df_viz[\"non_shiftable_load\"] / 1000\n",
    "df_viz = df_viz.rename(columns={\"non_shiftable_load\": \"Building Power Consumption (Real)\", \"solar_generation\": \"PV Power (Real)\"})\n",
    "df_long = (\n",
    "    df_viz.reset_index()\n",
    "    .melt(\n",
    "        id_vars=\"datetime\",\n",
    "        value_vars=[\"Building Power Consumption (Real)\", \"PV Power (Real)\"],\n",
    "        var_name=\"sensor\",\n",
    "        value_name=\"reading\"\n",
    "    )\n",
    ")\n",
    "sns.set_context(\"paper\", font_scale=1.2, rc={\"lines.linewidth\": 0.8})\n",
    "g = sns.relplot(\n",
    "    data=df_long,\n",
    "    x=\"datetime\", y=\"reading\",\n",
    "    kind=\"line\",\n",
    "    col=\"sensor\",\n",
    "    col_wrap=3,\n",
    "    facet_kws=dict(sharey=False),\n",
    "    height=5,\n",
    "    aspect=1.5\n",
    ")\n",
    "\n",
    "for ax in g.axes.flatten():\n",
    "    ax.xaxis.set_major_locator(mdates.AutoDateLocator())\n",
    "    ax.xaxis.set_major_formatter(mdates.ConciseDateFormatter(ax.xaxis.get_major_locator()))\n",
    "    ax.set_xlabel('')  # drop per‐panel x‐label if desired\n",
    "\n",
    "\n",
    "g.set_axis_labels(\"Time\", \"Power (kWh)\")\n",
    "g.set_titles(\"{col_name}\")\n",
    "plt.tight_layout()\n",
    "plt.show()"
   ]
  },
  {
   "cell_type": "code",
   "execution_count": null,
   "id": "d97c210d",
   "metadata": {},
   "outputs": [],
   "source": [
    "import seaborn as sns\n",
    "import matplotlib.pyplot as plt\n",
    "import matplotlib.dates as mdates\n",
    "\n",
    "plt.figure(figsize=(12,5))\n",
    "df_filtered = df[df[\"non_shiftable_load\"] < 100]\n",
    "df_filtered[\"Building Power Consumption\"] = df_filtered[\"non_shiftable_load\"]\n",
    "sns.lineplot(\n",
    "    data=df_filtered,\n",
    "    x=\"datetime\",\n",
    "    y=\"Building Power Consumption\",\n",
    "    marker=None\n",
    ")\n",
    "\n",
    "full_min = df.index.min()\n",
    "full_max = df.index.max()\n",
    "ax = plt.gca()\n",
    "ax.set_xlim(full_min, full_max)\n",
    "ax.xaxis.set_major_locator(mdates.AutoDateLocator())\n",
    "ax.xaxis.set_major_formatter(mdates.ConciseDateFormatter(ax.xaxis.get_major_locator()))\n",
    "ax.set_xlabel(\"\")\n",
    "ax.set_ylabel(\"Building Power (kWh)\")\n",
    "ax.set_title(\"Building Power Consumption (Real)\")\n",
    "plt.tight_layout()\n",
    "plt.show()"
   ]
  },
  {
   "cell_type": "code",
   "execution_count": null,
   "id": "5a436076",
   "metadata": {},
   "outputs": [],
   "source": [
    "import seaborn as sns\n",
    "import matplotlib.pyplot as plt\n",
    "import matplotlib.dates as mdates\n",
    "\n",
    "df_citylearn = pd.read_csv(\"datasets/baseline/Building_1.csv\")\n",
    "plt.figure(figsize=(12,5))\n",
    "df_filtered = df_citylearn.reset_index().rename(columns={\"index\":\"row\"})\n",
    "df_filtered[\"Building Power Consumption (CityLearn)\"] = df_filtered[\"non_shiftable_load\"]\n",
    "sns.lineplot(\n",
    "    data=df_filtered,\n",
    "    x=\"row\",\n",
    "    # x=None,\n",
    "    y=\"Building Power Consumption (CityLearn)\",\n",
    "    marker=None\n",
    ")\n",
    "\n",
    "# full_min = df.index.min()\n",
    "# full_max = df.index.max()\n",
    "ax = plt.gca()\n",
    "# # ax.set_xlim(full_min, full_max)\n",
    "# ax.xaxis.set_major_locator(mdates.AutoDateLocator())\n",
    "# ax.xaxis.set_major_formatter(mdates.ConciseDateFormatter(ax.xaxis.get_major_locator()))\n",
    "ax.set_xlabel(\"Timesteps (Hourly)\")\n",
    "ax.set_ylabel(\"Building Power (kWh)\")\n",
    "ax.set_title(\"Building Power Consumption (CityLearn)\")\n",
    "plt.tight_layout()\n",
    "plt.show()"
   ]
  },
  {
   "cell_type": "code",
   "execution_count": null,
   "id": "fbcbc476",
   "metadata": {},
   "outputs": [],
   "source": [
    "import seaborn as sns\n",
    "import matplotlib.pyplot as plt\n",
    "import matplotlib.dates as mdates\n",
    "\n",
    "df_citylearn = pd.read_csv(\"datasets/baseline/Building_1.csv\")\n",
    "plt.figure(figsize=(12,5))\n",
    "df_filtered = df_citylearn.reset_index().rename(columns={\"index\":\"row\"})\n",
    "df_filtered[\"Building Solar Generation (CityLearn)\"] = df_filtered[\"solar_generation\"] / 1000\n",
    "sns.lineplot(\n",
    "    data=df_filtered,\n",
    "    x=\"row\",\n",
    "    # x=None,\n",
    "    y=\"Building Solar Generation (CityLearn)\",\n",
    "    marker=None\n",
    ")\n",
    "\n",
    "# full_min = df.index.min()\n",
    "# full_max = df.index.max()\n",
    "ax = plt.gca()\n",
    "# # ax.set_xlim(full_min, full_max)\n",
    "# ax.xaxis.set_major_locator(mdates.AutoDateLocator())\n",
    "# ax.xaxis.set_major_formatter(mdates.ConciseDateFormatter(ax.xaxis.get_major_locator()))\n",
    "ax.set_xlabel(\"Timesteps (Hourly)\")\n",
    "ax.set_ylabel(\"Solar Generation (kWh)\")\n",
    "ax.set_title(\"Building Solar Generation (CityLearn)\")\n",
    "plt.tight_layout()\n",
    "plt.show()"
   ]
  },
  {
   "cell_type": "code",
   "execution_count": null,
   "id": "dcc30960",
   "metadata": {},
   "outputs": [],
   "source": [
    "import seaborn as sns\n",
    "import matplotlib.pyplot as plt\n",
    "import matplotlib.dates as mdates\n",
    "\n",
    "plt.figure(figsize=(12,5))\n",
    "df_filtered = df[df[\"non_shiftable_load\"] < 100]\n",
    "df_filtered[\"Building Power Consumption\"] = df_filtered[\"non_shiftable_load\"][3000:3072]\n",
    "sns.lineplot(\n",
    "    data=df_filtered,\n",
    "    x=\"datetime\",\n",
    "    y=\"Building Power Consumption\",\n",
    "    marker=None\n",
    ")\n",
    "\n",
    "# full_min = df.index.min()\n",
    "# full_max = df.index.max()\n",
    "ax = plt.gca()\n",
    "# ax.set_xlim(full_min, full_max)\n",
    "ax.xaxis.set_major_locator(mdates.AutoDateLocator())\n",
    "ax.xaxis.set_major_formatter(mdates.ConciseDateFormatter(ax.xaxis.get_major_locator()))\n",
    "ax.set_xlabel(\"\")\n",
    "ax.set_ylabel(\"Building Power (kWh)\")\n",
    "ax.set_title(\"Building Power Consumption - 3 Days (Real)\")\n",
    "plt.tight_layout()\n",
    "plt.show()"
   ]
  },
  {
   "cell_type": "code",
   "execution_count": null,
   "id": "bf8e24aa",
   "metadata": {},
   "outputs": [],
   "source": [
    "import seaborn as sns\n",
    "import matplotlib.pyplot as plt\n",
    "import matplotlib.dates as mdates\n",
    "\n",
    "df_grid = pd.read_csv(\"00_raw/building_real__2023.csv\")\n",
    "df_grid[df_grid[\"SMA-3008628305-EDMM_pAcGrid\"] > -100000][\"SMA-3008628305-EDMM_pAcGrid\"].plot.line()"
   ]
  },
  {
   "cell_type": "code",
   "execution_count": null,
   "id": "ea0e873d",
   "metadata": {},
   "outputs": [],
   "source": [
    "\n",
    "plt.figure(figsize=(12,5))\n",
    "\n",
    "mask = df_grid[\"SMA-3008628305-EDMM_pAcGrid\"] > -10000\n",
    "df_filt = df_grid[mask].copy()\n",
    "\n",
    "df_filt[\"Time\"] = pd.to_datetime(df_filt[\"Time\"], utc=False).dt.tz_localize(\"Europe/Dublin\", ambiguous=False)\n",
    "df_filt = df_filt.set_index(\"Time\")\n",
    "df_filt[\"Grid Power\"] = df_filt[\"SMA-3008628305-EDMM_pAcGrid\"]\n",
    "\n",
    "sns.lineplot(\n",
    "    data=df_filt,\n",
    "    x=df_filt.index,\n",
    "    y=\"Grid Power\",\n",
    "    marker=None\n",
    ")\n",
    "\n",
    "full_min = df_filt.index.min()\n",
    "full_max = df_filt.index.max()\n",
    "ax = plt.gca()\n",
    "ax.set_xlim(full_min, full_max)\n",
    "ax.xaxis.set_major_locator(mdates.AutoDateLocator())\n",
    "ax.xaxis.set_major_formatter(mdates.ConciseDateFormatter(ax.xaxis.get_major_locator()))\n",
    "ax.set_xlabel(\"\")\n",
    "ax.set_ylabel(\"Grid Power (kWh)\")\n",
    "ax.set_title(\"Grid Power (Real)\")\n",
    "plt.tight_layout()\n",
    "plt.show()"
   ]
  },
  {
   "cell_type": "code",
   "execution_count": null,
   "id": "dd78a173",
   "metadata": {},
   "outputs": [],
   "source": [
    "\n",
    "plt.figure(figsize=(12,5))\n",
    "\n",
    "mask = df_grid[\"SMA-3008628305-EDMM_pAcGrid\"] > -10000\n",
    "df_filt = df_grid[mask][3000:3072].copy()\n",
    "\n",
    "df_filt[\"Time\"] = pd.to_datetime(df_filt[\"Time\"], utc=False).dt.tz_localize(\"Europe/Dublin\", ambiguous=False)\n",
    "df_filt = df_filt.set_index(\"Time\")\n",
    "df_filt[\"Grid Power\"] = df_filt[\"SMA-3008628305-EDMM_pAcGrid\"]\n",
    "\n",
    "sns.lineplot(\n",
    "    data=df_filt,\n",
    "    x=df_filt.index,\n",
    "    y=\"Grid Power\",\n",
    "    marker=None\n",
    ")\n",
    "\n",
    "full_min = df_filt.index.min()\n",
    "full_max = df_filt.index.max()\n",
    "ax = plt.gca()\n",
    "ax.set_xlim(full_min, full_max)\n",
    "ax.xaxis.set_major_locator(mdates.AutoDateLocator())\n",
    "ax.xaxis.set_major_formatter(mdates.ConciseDateFormatter(ax.xaxis.get_major_locator()))\n",
    "ax.set_xlabel(\"\")\n",
    "ax.set_ylabel(\"Grid Power (kWh)\")\n",
    "ax.set_title(\"Grid Power - 3 Days (Real)\")\n",
    "plt.tight_layout()\n",
    "plt.show()"
   ]
  },
  {
   "cell_type": "code",
   "execution_count": null,
   "id": "5bb2feb2",
   "metadata": {},
   "outputs": [],
   "source": [
    "df_filtered = df[df[\"non_shiftable_load\"] < 100]\n",
    "df_filtered[\"non_shiftable_load\"].plot.line();"
   ]
  },
  {
   "cell_type": "code",
   "execution_count": null,
   "id": "cede40c8",
   "metadata": {},
   "outputs": [],
   "source": [
    "df[\"10000000846c766e-OM_pAcHome\"].isna().sum()"
   ]
  },
  {
   "cell_type": "code",
   "execution_count": null,
   "id": "0db6a91d",
   "metadata": {},
   "outputs": [],
   "source": [
    "df[\"10000000846c766e-OM_pAcHome\"].notna().sum()"
   ]
  },
  {
   "cell_type": "code",
   "execution_count": null,
   "id": "b9955531",
   "metadata": {},
   "outputs": [],
   "source": [
    "df[df[\"10000000846c766e-OM_pAcHome\"] > 10][\"10000000846c766e-OM_pAcHome\"].plot.line(title=\"10000000846c766e-OM_pAcHome\");"
   ]
  },
  {
   "cell_type": "code",
   "execution_count": null,
   "id": "42a9447c",
   "metadata": {},
   "outputs": [],
   "source": [
    "days = 130\n",
    "minutes = 24 * 60\n",
    "time_start = days * minutes\n",
    "print(time_start)\n",
    "time_end = time_start + (5 * minutes)\n",
    "print(time_end)\n",
    "df[time_start:time_end][\"10000000846c766e-OM_pAcHome\"].plot.line(title=\"10000000846c766e-OM_pAcHome\");"
   ]
  },
  {
   "cell_type": "code",
   "execution_count": null,
   "id": "2458d4f8",
   "metadata": {},
   "outputs": [],
   "source": [
    "df[time_start:time_end][\"SMA-3008628305-EDMM_pAcGrid\"].plot(title=\"SMA-3008628305-EDMM_pAcGrid\");"
   ]
  },
  {
   "cell_type": "code",
   "execution_count": null,
   "id": "e961b3e3",
   "metadata": {},
   "outputs": [],
   "source": [
    "df[time_start:time_end][\"SMA-3012104048-SI_sOc\"].plot(title=\"SMA-3012104048-SI_sOc\");"
   ]
  },
  {
   "cell_type": "code",
   "execution_count": null,
   "id": "83b4eac0",
   "metadata": {},
   "outputs": [],
   "source": [
    "df[time_start:time_end][\"SMA-3012104048-SI_pBat\"].plot(title=\"SMA-3012104048-SI_pBat\");"
   ]
  },
  {
   "cell_type": "code",
   "execution_count": null,
   "id": "412e2d66",
   "metadata": {},
   "outputs": [],
   "source": [
    "df[\"10000000846c766e-OM_pAcHome\"].plot.line()"
   ]
  },
  {
   "cell_type": "code",
   "execution_count": null,
   "id": "0a8a7498",
   "metadata": {},
   "outputs": [],
   "source": [
    "df[time_start:time_end][\"SMA-3008628305-EDMM_pAcGrid\"].plot.line(title=\"SMA-3008628305-EDMM_pAcGrid\");"
   ]
  },
  {
   "cell_type": "code",
   "execution_count": null,
   "id": "d0eabc02",
   "metadata": {},
   "outputs": [],
   "source": [
    "df[time_start:time_end][\"SMA-3010507943-STP_pDcPV\"].min()"
   ]
  },
  {
   "cell_type": "code",
   "execution_count": null,
   "id": "a63a48f3",
   "metadata": {},
   "outputs": [],
   "source": [
    "df[time_start:time_end][\"SMA-3010507943-STP_pDcPV\"].replace(-2147483648.0, 0).plot.line(title=\"SMA-3010507943-STP_pDcPV\");"
   ]
  }
 ],
 "metadata": {
  "kernelspec": {
   "display_name": "citylearn",
   "language": "python",
   "name": "python3"
  },
  "language_info": {
   "codemirror_mode": {
    "name": "ipython",
    "version": 3
   },
   "file_extension": ".py",
   "mimetype": "text/x-python",
   "name": "python",
   "nbconvert_exporter": "python",
   "pygments_lexer": "ipython3",
   "version": "3.10.18"
  }
 },
 "nbformat": 4,
 "nbformat_minor": 5
}
