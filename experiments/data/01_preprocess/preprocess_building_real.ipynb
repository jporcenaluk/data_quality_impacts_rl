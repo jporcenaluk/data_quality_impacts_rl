{
 "cells": [
  {
   "cell_type": "markdown",
   "id": "99abe866",
   "metadata": {},
   "source": [
    "## Building Real Processor\n",
    "\n",
    "Processes all the data from Real Building and makes a Building from it."
   ]
  },
  {
   "cell_type": "code",
   "execution_count": null,
   "id": "237ca76e",
   "metadata": {},
   "outputs": [],
   "source": [
    "# %pip install pyarrow pandas"
   ]
  },
  {
   "cell_type": "code",
   "execution_count": null,
   "id": "333bdd85",
   "metadata": {},
   "outputs": [],
   "source": [
    "import os\n",
    "import pandas as pd\n",
    "from pathlib import Path\n",
    "\n",
    "# should we clean the data as well as structure it properly? Yes or no.\n",
    "is_clean = False\n",
    "\n",
    "directory = f\"{os.getcwd()}/..\"\n",
    "file_name = \"building_real__2023\"\n",
    "df = pd.read_csv(f\"{directory}/00_raw/{file_name}.csv\")\n",
    "# to_hourly = True\n",
    "df.head()"
   ]
  },
  {
   "cell_type": "code",
   "execution_count": null,
   "id": "e889fc3d",
   "metadata": {},
   "outputs": [],
   "source": [
    "# rename columns\n",
    "df = df.rename(columns=\n",
    "    {\n",
    "        \"SMA-3008628305-EDMM_pAcGrid\": \"grid_ac_power_watt\", # energy (current * volt)\n",
    "        \"SMA-3010507943-STP_pDcPV\": \"pv_dc_power_watt\",\n",
    "        \"SMA-3012104048-SI_pBat\": \"bat_dc_power_watt\",\n",
    "        \"SMA-3012104048-SI_pInBat\": \"bat_dc_power_in_watt\",\n",
    "        \"SMA-3012104048-SI_pOutBat\": \"bat_dc_power_out_watt\",\n",
    "        \"SMA-3012104048-SI_sOc\": \"bat_soc_percent\",\n",
    "        \"10000000846c766e-OM_pAcHome\": \"home_power_watt\"\n",
    "    }\n",
    ")"
   ]
  },
  {
   "cell_type": "code",
   "execution_count": null,
   "id": "30f8a91c",
   "metadata": {},
   "outputs": [],
   "source": [
    "df_clean = df.copy()\n",
    "idx = pd.DatetimeIndex(df_clean[\"Time\"]).tz_localize(\"Europe/Dublin\", ambiguous=\"infer\", nonexistent=\"shift_forward\")\n",
    "df_clean.index = idx\n",
    "df_clean = df_clean.drop(columns=\"Time\")\n",
    "df_clean.index.rename(\"time\")\n",
    "df_clean.head(1)"
   ]
  },
  {
   "cell_type": "code",
   "execution_count": null,
   "id": "adcff8d4",
   "metadata": {},
   "outputs": [],
   "source": [
    "dupes_in_index = not df_clean.index.is_unique\n",
    "print(df_clean.shape)\n",
    "print(\"Duplicates in index?\", dupes_in_index)\n",
    "if dupes_in_index:\n",
    "    raise Exception(\"There should not be dupes in index\")"
   ]
  },
  {
   "cell_type": "code",
   "execution_count": null,
   "id": "5d4c4290",
   "metadata": {},
   "outputs": [],
   "source": [
    "if is_clean:\n",
    "    df_clean[\"bat_soc_percent\"] = df_clean[\"bat_soc_percent\"].ffill()\n",
    "    df_clean = df_clean.fillna(0.0)\n",
    "df_clean.head()"
   ]
  },
  {
   "cell_type": "code",
   "execution_count": null,
   "id": "ffae30bd",
   "metadata": {},
   "outputs": [],
   "source": [
    "df_check = df_clean[[\"grid_ac_power_watt\"]].copy()\n",
    "if is_clean:\n",
    "    df_check = df_check[[\"grid_ac_power_watt\"]].fillna(0.0)\n",
    "    df_check = df_check[df_check[\"grid_ac_power_watt\"].abs() <= 100000]\n",
    "df_check.plot();"
   ]
  },
  {
   "cell_type": "code",
   "execution_count": null,
   "id": "3a2e996c",
   "metadata": {},
   "outputs": [],
   "source": [
    "# plot the battery\n",
    "df_clean[[\"bat_soc_percent\"]].plot();"
   ]
  },
  {
   "cell_type": "code",
   "execution_count": null,
   "id": "786632b3",
   "metadata": {},
   "outputs": [],
   "source": [
    "import seaborn as sns\n",
    "sns.lineplot(data=df[[\"grid_ac_power_watt\", \"pv_dc_power_watt\", \"bat_dc_power_watt\", \"home_power_watt\"]]);"
   ]
  },
  {
   "cell_type": "code",
   "execution_count": null,
   "id": "086199c5",
   "metadata": {},
   "outputs": [],
   "source": [
    "if is_clean:\n",
    "    # remove extreme outliers\n",
    "    max_min_value = 100000\n",
    "    df_clean = df_clean.mask(df_clean > max_min_value, 0.0)\n",
    "    df_clean = df_clean.mask(df_clean < -max_min_value, 0.0)"
   ]
  },
  {
   "cell_type": "markdown",
   "id": "a4a17b8b",
   "metadata": {},
   "source": [
    "Need to clean the data by removing negative values for PV - there's no such thing as negative solar!"
   ]
  },
  {
   "cell_type": "code",
   "execution_count": null,
   "id": "5e6b9ae9",
   "metadata": {},
   "outputs": [],
   "source": [
    "import matplotlib.pyplot as plt\n",
    "if is_clean:\n",
    "    df_clean[\"pv_dc_power_watt\"] = df_clean[\"pv_dc_power_watt\"].mask(df_clean[\"pv_dc_power_watt\"] < 0).fillna(0)\n",
    "\n",
    "df_copy = df_clean.copy()\n",
    "df_copy['pv_dc_power_watt'].plot(figsize=(12, 5), linewidth=0.8)\n",
    "plt.ylabel('Photovoltaic DC Power (Watt)')\n",
    "plt.show()"
   ]
  },
  {
   "cell_type": "markdown",
   "id": "cc475c35",
   "metadata": {},
   "source": [
    "Also need to clean by removing outliers in home power watt."
   ]
  },
  {
   "cell_type": "code",
   "execution_count": null,
   "id": "535e38fb",
   "metadata": {},
   "outputs": [],
   "source": [
    "import seaborn as sns\n",
    "import matplotlib.pyplot as plt\n",
    "\n",
    "df_copy['home_power_watt'].plot(figsize=(12, 5), linewidth=0.8)\n",
    "plt.ylabel('Home AC Power (Watt)')\n",
    "plt.show()"
   ]
  },
  {
   "cell_type": "code",
   "execution_count": null,
   "id": "bf2ff40c",
   "metadata": {},
   "outputs": [],
   "source": [
    "df_copy['home_power_watt'].loc[\"2023-07-01\":\"2023-07-02\"].plot(figsize=(12, 5), linewidth=0.8)\n",
    "plt.ylabel('Home AC Power 2023-07-01 (Watt)')\n",
    "plt.show()"
   ]
  },
  {
   "cell_type": "code",
   "execution_count": null,
   "id": "226cd6dc",
   "metadata": {},
   "outputs": [],
   "source": [
    "df_copy['home_power_watt'].loc[\"2023-09-03\":\"2023-09-09\"].plot(figsize=(12, 5), linewidth=0.8)\n",
    "plt.ylabel('Home AC Power 2023-07-01 (Watt)')\n",
    "plt.show()"
   ]
  },
  {
   "cell_type": "code",
   "execution_count": null,
   "id": "2ffbd822",
   "metadata": {},
   "outputs": [],
   "source": [
    "df_copy['bat_dc_power_watt'].loc[\"2023-07-03\":\"2023-07-09\"].plot(figsize=(12, 5), linewidth=0.8)\n",
    "plt.ylabel('Battery DC Power(Watt)')\n",
    "plt.show()"
   ]
  },
  {
   "cell_type": "code",
   "execution_count": null,
   "id": "a4b10f1b",
   "metadata": {},
   "outputs": [],
   "source": [
    "df_copy['bat_soc_percent'].loc[\"2023-07-03\":\"2023-07-09\"].plot(figsize=(12, 5), linewidth=0.8)\n",
    "plt.ylabel('Battery State of Charge (%)')\n",
    "plt.show()"
   ]
  },
  {
   "cell_type": "code",
   "execution_count": null,
   "id": "83444ce0",
   "metadata": {},
   "outputs": [],
   "source": [
    "import matplotlib.pyplot as plt\n",
    "df_copy['grid_ac_power_watt'].plot(figsize=(12, 5), linewidth=0.8)\n",
    "plt.ylabel('Grid AC Power (Watt)')\n",
    "plt.show()"
   ]
  },
  {
   "cell_type": "code",
   "execution_count": null,
   "id": "c4252de2",
   "metadata": {},
   "outputs": [],
   "source": [
    "# find out min value for above 0 for home power watt\n",
    "if is_clean:\n",
    "    df_clean_pwr = df_clean[df_clean[\"home_power_watt\"] > 0]\n",
    "    df_clean_pwr = df_clean_pwr[df_clean[\"home_power_watt\"] < 8000]\n",
    "    df_clean_pwr[\"home_power_watt\"].plot.hist(column=[\"home_power_watt\"], bins=1000);\n",
    "else:\n",
    "    df_clean_pwr = df_clean.copy()\n",
    "    df_clean_pwr[\"home_power_watt\"].plot.hist(column=[\"home_power_watt\"], bins=1000);"
   ]
  },
  {
   "cell_type": "code",
   "execution_count": null,
   "id": "6914e4d1",
   "metadata": {},
   "outputs": [],
   "source": [
    "import matplotlib.pyplot as plt\n",
    "if is_clean:\n",
    "    df_clean[\"home_power_watt\"] = df_clean[\"home_power_watt\"].sub(1000).where(df_clean[\"home_power_watt\"] > 0, df_clean[\"home_power_watt\"])\n",
    "sns.lineplot(data=df_clean[[\"grid_ac_power_watt\", \"pv_dc_power_watt\", \"bat_dc_power_watt\", \"home_power_watt\"]].loc[\"2023-09-04\":\"2023-09-04\"]);\n",
    "plt.show()"
   ]
  },
  {
   "cell_type": "code",
   "execution_count": null,
   "id": "75ec0bd5",
   "metadata": {},
   "outputs": [],
   "source": [
    "# replace negative values with 0\n",
    "if is_clean:\n",
    "    df_clean[\"home_power_watt\"] = df_clean[\"home_power_watt\"].clip(lower=0)\n",
    "    # replace 0 with values from grid\n",
    "    df_clean.loc[df_clean[\"home_power_watt\"] == 0.0, \"home_power_watt\"] = -df_clean[\"grid_ac_power_watt\"] - df_clean[\"pv_dc_power_watt\"] + df_clean[\"bat_dc_power_watt\"]\n",
    "    df_clean[\"home_power_watt\"] = df_clean[\"home_power_watt\"].clip(lower=0)\n"
   ]
  },
  {
   "cell_type": "markdown",
   "id": "79cd49b3",
   "metadata": {},
   "source": [
    "Now the power overnight is being simulated"
   ]
  },
  {
   "cell_type": "code",
   "execution_count": null,
   "id": "ec381c39",
   "metadata": {},
   "outputs": [],
   "source": [
    "import matplotlib.pyplot as plt\n",
    "sns.lineplot(data=df_clean[[\"grid_ac_power_watt\", \"pv_dc_power_watt\", \"bat_dc_power_watt\", \"home_power_watt\"]].loc[\"2023-09-04\":\"2023-09-04\"]);\n",
    "plt.show()"
   ]
  },
  {
   "cell_type": "code",
   "execution_count": null,
   "id": "5e3642db",
   "metadata": {},
   "outputs": [],
   "source": [
    "import matplotlib.pyplot as plt\n",
    "sns.lineplot(data=df_clean[[\"grid_ac_power_watt\", \"pv_dc_power_watt\", \"bat_dc_power_watt\", \"home_power_watt\"]].loc[\"2023-09-03 16:00\":\"2023-09-03 20:00\"]);\n",
    "plt.show()"
   ]
  },
  {
   "cell_type": "code",
   "execution_count": null,
   "id": "573d86dd",
   "metadata": {},
   "outputs": [],
   "source": [
    "import matplotlib.pyplot as plt\n",
    "sns.lineplot(data=df_clean[[\"bat_soc_percent\"]].loc[\"2023-09-03 16:00\":\"2023-09-03 20:00\"]);\n",
    "plt.show()"
   ]
  },
  {
   "cell_type": "code",
   "execution_count": null,
   "id": "2a586871",
   "metadata": {},
   "outputs": [],
   "source": [
    "sns.lineplot(data=df_clean[[\"grid_ac_power_watt\", \"pv_dc_power_watt\", \"bat_dc_power_watt\", \"home_power_watt\"]]);"
   ]
  },
  {
   "cell_type": "code",
   "execution_count": null,
   "id": "1d58c406",
   "metadata": {},
   "outputs": [],
   "source": [
    "# show just two days of data to illustrate what's going on.\n",
    "start_date = '2023-07-01'\n",
    "end_date = '2023-07-03'\n",
    "after_start_date = df_clean.index >= start_date\n",
    "before_end_date = df_clean.index <= end_date\n",
    "between_two_dates = after_start_date & before_end_date\n",
    "day_df = df_clean.loc[between_two_dates]\n",
    "sns.lineplot(data=day_df[[\"grid_ac_power_watt\", \"pv_dc_power_watt\", \"bat_dc_power_watt\", \"home_power_watt\"]]);"
   ]
  },
  {
   "cell_type": "code",
   "execution_count": null,
   "id": "aba3d219",
   "metadata": {},
   "outputs": [],
   "source": [
    "df_clean.to_parquet(\"building_real__original_data.parquet\", index=True)"
   ]
  },
  {
   "cell_type": "markdown",
   "id": "a873d715",
   "metadata": {},
   "source": [
    "# Put into CityLearn Format\n",
    "\n",
    "Put the data into CityLearn format"
   ]
  },
  {
   "cell_type": "code",
   "execution_count": null,
   "id": "8b65df28",
   "metadata": {},
   "outputs": [],
   "source": [
    "import pandas as pd\n",
    "\n",
    "df_citylearn = pd.DataFrame(index=df_clean.index)\n",
    "df_citylearn[\"date\"] = pd.DatetimeIndex(df_clean.index).date\n",
    "df_citylearn[\"month\"] = pd.DatetimeIndex(df_clean.index).month\n",
    "df_citylearn[\"hour\"] = pd.DatetimeIndex(df_clean.index).hour + 1 # needs to be 1-24, not 0-23, so add 1\n",
    "df_citylearn[\"day_type\"] = pd.DatetimeIndex(df_clean.index).dayofweek\n",
    "df_citylearn[\"datetime_local\"] = pd.DatetimeIndex(df_clean.index)\n",
    "df_citylearn[\"daylight_savings_status\"] = df_citylearn[\"datetime_local\"].apply(\n",
    "    lambda ts: int(ts.utcoffset() != pd.Timedelta(0))\n",
    ")\n",
    "df_citylearn[\"indoor_dry_bulb_temperature\"] = 0.0\n",
    "df_citylearn[\"average_unmet_cooling_setpoint_difference\"] = 0.0\n",
    "df_citylearn[\"indoor_relative_humidity\"] = 0.0\n",
    "df_citylearn[\"non_shiftable_load\"] = df_clean[\"home_power_watt\"] / 1000 # kW consumed\n",
    "df_citylearn[\"dhw_demand\"] = 0.0\n",
    "df_citylearn[\"cooling_demand\"] = 0.0\n",
    "df_citylearn[\"heating_demand\"] = 0.0\n",
    "df_citylearn[\"solar_generation\"] = df_clean[\"pv_dc_power_watt\"]\n",
    "df_citylearn[\"occupant_count\"] = 0.0\n",
    "df_citylearn[\"indoor_dry_bulb_temperature_cooling_set_point\"] = 0.0\n",
    "df_citylearn[\"indoor_dry_bulb_temperature_heating_set_point\"] = 0.0\n",
    "df_citylearn[\"hvac_mode\"] = 0\n",
    "df_citylearn.head()"
   ]
  },
  {
   "cell_type": "code",
   "execution_count": null,
   "id": "7374da1f",
   "metadata": {},
   "outputs": [],
   "source": [
    "df = df_citylearn\n",
    "\n",
    "# add datetime\n",
    "df[\"datetime\"] = df[\"datetime_local\"]\n",
    "df.index = df[\"datetime\"]\n",
    "df = df.drop(columns=[\"datetime_local\", \"datetime\", \"date\"])\n",
    "df.head()"
   ]
  },
  {
   "cell_type": "code",
   "execution_count": null,
   "id": "7374da1f",
   "metadata": {},
   "outputs": [],
   "source": [
    "cwd = os.getcwd()\n",
    "if is_clean:\n",
    "    df.to_parquet(f\"{cwd}/{file_name}.parquet\")\n",
    "else:\n",
    "    df.to_parquet(f\"{cwd}/{file_name}_dirty.parquet\")"
   ]
  }
 ],
 "metadata": {
  "kernelspec": {
   "display_name": "base",
   "language": "python",
   "name": "python3"
  },
  "language_info": {
   "codemirror_mode": {
    "name": "ipython",
    "version": 3
   },
   "file_extension": ".py",
   "mimetype": "text/x-python",
   "name": "python",
   "nbconvert_exporter": "python",
   "pygments_lexer": "ipython3",
   "version": "3.11.4"
  }
 },
 "nbformat": 4,
 "nbformat_minor": 5
}
